{
    "cells": [
        {
            "cell_type": "code",
            "execution_count": 12,
            "source": [
                "import numpy as np\r\n",
                "import pandas as pd\r\n",
                "import seaborn as sns\r\n",
                "import matplotlib as plt\r\n",
                "import os"
            ],
            "outputs": [],
            "metadata": {}
        },
        {
            "cell_type": "code",
            "execution_count": 2,
            "source": [
                "for dirname, _, filenames in os.walk('/data'):\r\n",
                "    for filename in filenames:\r\n",
                "        print(os.path.join(dirname, filename))"
            ],
            "outputs": [],
            "metadata": {}
        },
        {
            "cell_type": "code",
            "execution_count": 9,
            "source": [
                "## load data\r\n",
                "data_path = {\r\n",
                "    'categories': '../data/item_categories.csv',\r\n",
                "    'items': '../data/items.csv',\r\n",
                "    'sales': '../data/sales_train.csv',\r\n",
                "    'shops': '../data/shops.csv',\r\n",
                "    'test': '../data/test.csv'\r\n",
                "}\r\n",
                "print('dataset loaded completly')\r\n"
            ],
            "outputs": [
                {
                    "output_type": "stream",
                    "name": "stdout",
                    "text": [
                        "dataset loaded completly\n"
                    ]
                }
            ],
            "metadata": {}
        },
        {
            "cell_type": "code",
            "execution_count": 13,
            "source": [
                "dataset = { name: pd.read_csv(path) for name, path in data_path.items()}\r\n",
                "dataset.keys()"
            ],
            "outputs": [
                {
                    "output_type": "execute_result",
                    "data": {
                        "text/plain": [
                            "dict_keys(['categories', 'items', 'sales', 'shops', 'test'])"
                        ]
                    },
                    "metadata": {},
                    "execution_count": 13
                }
            ],
            "metadata": {}
        },
        {
            "cell_type": "markdown",
            "source": [
                "Inspect data"
            ],
            "metadata": {}
        },
        {
            "cell_type": "code",
            "execution_count": 22,
            "source": [
                "def inspect_data(dataset: pd.DataFrame):\r\n",
                "    print(dataset.info())\r\n",
                "\r\n",
                "    print(f\"\"\"\r\n",
                "        Inspecting for duplicates:\r\n",
                "        Discovered: {sum(dataset.value_counts() > 1)}\r\n",
                "    \"\"\")\r\n",
                "\r\n",
                "    return dataset.head()"
            ],
            "outputs": [],
            "metadata": {}
        },
        {
            "cell_type": "code",
            "execution_count": 23,
            "source": [
                "inspect_data(dataset['sales'])"
            ],
            "outputs": [
                {
                    "output_type": "stream",
                    "name": "stdout",
                    "text": [
                        "<class 'pandas.core.frame.DataFrame'>\n",
                        "RangeIndex: 2935849 entries, 0 to 2935848\n",
                        "Data columns (total 6 columns):\n",
                        " #   Column          Dtype  \n",
                        "---  ------          -----  \n",
                        " 0   date            object \n",
                        " 1   date_block_num  int64  \n",
                        " 2   shop_id         int64  \n",
                        " 3   item_id         int64  \n",
                        " 4   item_price      float64\n",
                        " 5   item_cnt_day    float64\n",
                        "dtypes: float64(2), int64(3), object(1)\n",
                        "memory usage: 134.4+ MB\n",
                        "None\n",
                        "\n",
                        "        Inspecting for duplicates:\n",
                        "        Discovered: 6\n",
                        "    \n"
                    ]
                },
                {
                    "output_type": "execute_result",
                    "data": {
                        "text/plain": [
                            "         date  date_block_num  shop_id  item_id  item_price  item_cnt_day\n",
                            "0  02.01.2013               0       59    22154      999.00           1.0\n",
                            "1  03.01.2013               0       25     2552      899.00           1.0\n",
                            "2  05.01.2013               0       25     2552      899.00          -1.0\n",
                            "3  06.01.2013               0       25     2554     1709.05           1.0\n",
                            "4  15.01.2013               0       25     2555     1099.00           1.0"
                        ],
                        "text/html": [
                            "<div>\n",
                            "<style scoped>\n",
                            "    .dataframe tbody tr th:only-of-type {\n",
                            "        vertical-align: middle;\n",
                            "    }\n",
                            "\n",
                            "    .dataframe tbody tr th {\n",
                            "        vertical-align: top;\n",
                            "    }\n",
                            "\n",
                            "    .dataframe thead th {\n",
                            "        text-align: right;\n",
                            "    }\n",
                            "</style>\n",
                            "<table border=\"1\" class=\"dataframe\">\n",
                            "  <thead>\n",
                            "    <tr style=\"text-align: right;\">\n",
                            "      <th></th>\n",
                            "      <th>date</th>\n",
                            "      <th>date_block_num</th>\n",
                            "      <th>shop_id</th>\n",
                            "      <th>item_id</th>\n",
                            "      <th>item_price</th>\n",
                            "      <th>item_cnt_day</th>\n",
                            "    </tr>\n",
                            "  </thead>\n",
                            "  <tbody>\n",
                            "    <tr>\n",
                            "      <th>0</th>\n",
                            "      <td>02.01.2013</td>\n",
                            "      <td>0</td>\n",
                            "      <td>59</td>\n",
                            "      <td>22154</td>\n",
                            "      <td>999.00</td>\n",
                            "      <td>1.0</td>\n",
                            "    </tr>\n",
                            "    <tr>\n",
                            "      <th>1</th>\n",
                            "      <td>03.01.2013</td>\n",
                            "      <td>0</td>\n",
                            "      <td>25</td>\n",
                            "      <td>2552</td>\n",
                            "      <td>899.00</td>\n",
                            "      <td>1.0</td>\n",
                            "    </tr>\n",
                            "    <tr>\n",
                            "      <th>2</th>\n",
                            "      <td>05.01.2013</td>\n",
                            "      <td>0</td>\n",
                            "      <td>25</td>\n",
                            "      <td>2552</td>\n",
                            "      <td>899.00</td>\n",
                            "      <td>-1.0</td>\n",
                            "    </tr>\n",
                            "    <tr>\n",
                            "      <th>3</th>\n",
                            "      <td>06.01.2013</td>\n",
                            "      <td>0</td>\n",
                            "      <td>25</td>\n",
                            "      <td>2554</td>\n",
                            "      <td>1709.05</td>\n",
                            "      <td>1.0</td>\n",
                            "    </tr>\n",
                            "    <tr>\n",
                            "      <th>4</th>\n",
                            "      <td>15.01.2013</td>\n",
                            "      <td>0</td>\n",
                            "      <td>25</td>\n",
                            "      <td>2555</td>\n",
                            "      <td>1099.00</td>\n",
                            "      <td>1.0</td>\n",
                            "    </tr>\n",
                            "  </tbody>\n",
                            "</table>\n",
                            "</div>"
                        ]
                    },
                    "metadata": {},
                    "execution_count": 23
                }
            ],
            "metadata": {}
        },
        {
            "cell_type": "code",
            "execution_count": 24,
            "source": [
                "inspect_data(dataset['items'])"
            ],
            "outputs": [
                {
                    "output_type": "stream",
                    "name": "stdout",
                    "text": [
                        "<class 'pandas.core.frame.DataFrame'>\n",
                        "RangeIndex: 22170 entries, 0 to 22169\n",
                        "Data columns (total 3 columns):\n",
                        " #   Column            Non-Null Count  Dtype \n",
                        "---  ------            --------------  ----- \n",
                        " 0   item_name         22170 non-null  object\n",
                        " 1   item_id           22170 non-null  int64 \n",
                        " 2   item_category_id  22170 non-null  int64 \n",
                        "dtypes: int64(2), object(1)\n",
                        "memory usage: 519.7+ KB\n",
                        "None\n",
                        "\n",
                        "        Inspecting for duplicates:\n",
                        "        Discovered: 0\n",
                        "    \n"
                    ]
                },
                {
                    "output_type": "execute_result",
                    "data": {
                        "text/plain": [
                            "                                           item_name  item_id  \\\n",
                            "0          ! ВО ВЛАСТИ НАВАЖДЕНИЯ (ПЛАСТ.)         D        0   \n",
                            "1  !ABBYY FineReader 12 Professional Edition Full...        1   \n",
                            "2      ***В ЛУЧАХ СЛАВЫ   (UNV)                    D        2   \n",
                            "3    ***ГОЛУБАЯ ВОЛНА  (Univ)                      D        3   \n",
                            "4        ***КОРОБКА (СТЕКЛО)                       D        4   \n",
                            "\n",
                            "   item_category_id  \n",
                            "0                40  \n",
                            "1                76  \n",
                            "2                40  \n",
                            "3                40  \n",
                            "4                40  "
                        ],
                        "text/html": [
                            "<div>\n",
                            "<style scoped>\n",
                            "    .dataframe tbody tr th:only-of-type {\n",
                            "        vertical-align: middle;\n",
                            "    }\n",
                            "\n",
                            "    .dataframe tbody tr th {\n",
                            "        vertical-align: top;\n",
                            "    }\n",
                            "\n",
                            "    .dataframe thead th {\n",
                            "        text-align: right;\n",
                            "    }\n",
                            "</style>\n",
                            "<table border=\"1\" class=\"dataframe\">\n",
                            "  <thead>\n",
                            "    <tr style=\"text-align: right;\">\n",
                            "      <th></th>\n",
                            "      <th>item_name</th>\n",
                            "      <th>item_id</th>\n",
                            "      <th>item_category_id</th>\n",
                            "    </tr>\n",
                            "  </thead>\n",
                            "  <tbody>\n",
                            "    <tr>\n",
                            "      <th>0</th>\n",
                            "      <td>! ВО ВЛАСТИ НАВАЖДЕНИЯ (ПЛАСТ.)         D</td>\n",
                            "      <td>0</td>\n",
                            "      <td>40</td>\n",
                            "    </tr>\n",
                            "    <tr>\n",
                            "      <th>1</th>\n",
                            "      <td>!ABBYY FineReader 12 Professional Edition Full...</td>\n",
                            "      <td>1</td>\n",
                            "      <td>76</td>\n",
                            "    </tr>\n",
                            "    <tr>\n",
                            "      <th>2</th>\n",
                            "      <td>***В ЛУЧАХ СЛАВЫ   (UNV)                    D</td>\n",
                            "      <td>2</td>\n",
                            "      <td>40</td>\n",
                            "    </tr>\n",
                            "    <tr>\n",
                            "      <th>3</th>\n",
                            "      <td>***ГОЛУБАЯ ВОЛНА  (Univ)                      D</td>\n",
                            "      <td>3</td>\n",
                            "      <td>40</td>\n",
                            "    </tr>\n",
                            "    <tr>\n",
                            "      <th>4</th>\n",
                            "      <td>***КОРОБКА (СТЕКЛО)                       D</td>\n",
                            "      <td>4</td>\n",
                            "      <td>40</td>\n",
                            "    </tr>\n",
                            "  </tbody>\n",
                            "</table>\n",
                            "</div>"
                        ]
                    },
                    "metadata": {},
                    "execution_count": 24
                }
            ],
            "metadata": {}
        },
        {
            "cell_type": "code",
            "execution_count": 25,
            "source": [
                "inspect_data(dataset['shops'])"
            ],
            "outputs": [
                {
                    "output_type": "stream",
                    "name": "stdout",
                    "text": [
                        "<class 'pandas.core.frame.DataFrame'>\n",
                        "RangeIndex: 60 entries, 0 to 59\n",
                        "Data columns (total 2 columns):\n",
                        " #   Column     Non-Null Count  Dtype \n",
                        "---  ------     --------------  ----- \n",
                        " 0   shop_name  60 non-null     object\n",
                        " 1   shop_id    60 non-null     int64 \n",
                        "dtypes: int64(1), object(1)\n",
                        "memory usage: 1.1+ KB\n",
                        "None\n",
                        "\n",
                        "        Inspecting for duplicates:\n",
                        "        Discovered: 0\n",
                        "    \n"
                    ]
                },
                {
                    "output_type": "execute_result",
                    "data": {
                        "text/plain": [
                            "                        shop_name  shop_id\n",
                            "0   !Якутск Орджоникидзе, 56 фран        0\n",
                            "1   !Якутск ТЦ \"Центральный\" фран        1\n",
                            "2                Адыгея ТЦ \"Мега\"        2\n",
                            "3  Балашиха ТРК \"Октябрь-Киномир\"        3\n",
                            "4        Волжский ТЦ \"Волга Молл\"        4"
                        ],
                        "text/html": [
                            "<div>\n",
                            "<style scoped>\n",
                            "    .dataframe tbody tr th:only-of-type {\n",
                            "        vertical-align: middle;\n",
                            "    }\n",
                            "\n",
                            "    .dataframe tbody tr th {\n",
                            "        vertical-align: top;\n",
                            "    }\n",
                            "\n",
                            "    .dataframe thead th {\n",
                            "        text-align: right;\n",
                            "    }\n",
                            "</style>\n",
                            "<table border=\"1\" class=\"dataframe\">\n",
                            "  <thead>\n",
                            "    <tr style=\"text-align: right;\">\n",
                            "      <th></th>\n",
                            "      <th>shop_name</th>\n",
                            "      <th>shop_id</th>\n",
                            "    </tr>\n",
                            "  </thead>\n",
                            "  <tbody>\n",
                            "    <tr>\n",
                            "      <th>0</th>\n",
                            "      <td>!Якутск Орджоникидзе, 56 фран</td>\n",
                            "      <td>0</td>\n",
                            "    </tr>\n",
                            "    <tr>\n",
                            "      <th>1</th>\n",
                            "      <td>!Якутск ТЦ \"Центральный\" фран</td>\n",
                            "      <td>1</td>\n",
                            "    </tr>\n",
                            "    <tr>\n",
                            "      <th>2</th>\n",
                            "      <td>Адыгея ТЦ \"Мега\"</td>\n",
                            "      <td>2</td>\n",
                            "    </tr>\n",
                            "    <tr>\n",
                            "      <th>3</th>\n",
                            "      <td>Балашиха ТРК \"Октябрь-Киномир\"</td>\n",
                            "      <td>3</td>\n",
                            "    </tr>\n",
                            "    <tr>\n",
                            "      <th>4</th>\n",
                            "      <td>Волжский ТЦ \"Волга Молл\"</td>\n",
                            "      <td>4</td>\n",
                            "    </tr>\n",
                            "  </tbody>\n",
                            "</table>\n",
                            "</div>"
                        ]
                    },
                    "metadata": {},
                    "execution_count": 25
                }
            ],
            "metadata": {}
        },
        {
            "cell_type": "code",
            "execution_count": null,
            "source": [],
            "outputs": [],
            "metadata": {}
        },
        {
            "cell_type": "code",
            "execution_count": null,
            "source": [],
            "outputs": [],
            "metadata": {}
        }
    ],
    "metadata": {
        "orig_nbformat": 4,
        "language_info": {
            "name": "python",
            "version": "3.8.5",
            "mimetype": "text/x-python",
            "codemirror_mode": {
                "name": "ipython",
                "version": 3
            },
            "pygments_lexer": "ipython3",
            "nbconvert_exporter": "python",
            "file_extension": ".py"
        },
        "kernelspec": {
            "name": "python3",
            "display_name": "Python 3.8.5 64-bit ('base': conda)"
        },
        "interpreter": {
            "hash": "b4832287f31b7a502ceb77eac165f46b59b96ddcfa528ad0eb35bda3bd17faf3"
        }
    },
    "nbformat": 4,
    "nbformat_minor": 2
}